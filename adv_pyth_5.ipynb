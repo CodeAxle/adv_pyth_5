{
 "cells": [
  {
   "cell_type": "markdown",
   "id": "ce732ada",
   "metadata": {},
   "source": [
    "# 1."
   ]
  },
  {
   "cell_type": "code",
   "execution_count": 1,
   "id": "e6de3cae",
   "metadata": {},
   "outputs": [],
   "source": [
    "# Multiple inheritance refers to a feature in object-oriented programming languages that allows a class to inherit attributes \n",
    "# and methods from more than one parent class. \n",
    "# In other words, a subclass can inherit characteristics from multiple superclasses."
   ]
  },
  {
   "cell_type": "markdown",
   "id": "dde43ef6",
   "metadata": {},
   "source": [
    "# 2."
   ]
  },
  {
   "cell_type": "code",
   "execution_count": 2,
   "id": "24ea99ca",
   "metadata": {},
   "outputs": [],
   "source": [
    "# i) Delegation is a concept in object-oriented programming (OOP) where an object passes responsibility for a particular \n",
    "# task to another object. Instead of directly performing the task itself, the delegating object forwards or delegates the \n",
    "# task to another object that is better suited to handle it. This concept is often used to achieve code reuse, modularity, \n",
    "# and separation of concerns.\n",
    "# i) Delegation elegation is a powerful design principle in OOP that promotes code reuse, modular design, separation of concerns,\n",
    "# and flexibility in software development. It encourages a more structured and maintainable approach to building object-oriented\n",
    "# systems."
   ]
  },
  {
   "cell_type": "markdown",
   "id": "c6dc2e08",
   "metadata": {},
   "source": [
    "# 3."
   ]
  },
  {
   "cell_type": "code",
   "execution_count": 3,
   "id": "9c4caa40",
   "metadata": {},
   "outputs": [],
   "source": [
    "# i) Composition is a fundamental concept in object-oriented programming (OOP) that involves combining or composing multiple \n",
    "# objects to create more complex and specialized objects. It is a design technique where one class includes objects of another\n",
    "# class as part of its state, rather than inheriting from that class. In simpler terms, composition represents a \"has-a\" \n",
    "# relationship between classes.\n",
    "# ii) Composition is a powerful design principle in OOP that promotes code reuse, encapsulation, flexibility, and modularity. \n",
    "# It enables the creation of complex objects by combining simpler objects, fostering a more scalable and robust software \n",
    "# architecture."
   ]
  },
  {
   "cell_type": "markdown",
   "id": "7b13acce",
   "metadata": {},
   "source": [
    "# 4."
   ]
  },
  {
   "cell_type": "code",
   "execution_count": 4,
   "id": "ad3a6e20",
   "metadata": {},
   "outputs": [
    {
     "name": "stdout",
     "output_type": "stream",
     "text": [
      "10\n",
      "20\n"
     ]
    }
   ],
   "source": [
    "# Bound methods are methods that are associated with a specific instance of a class. When a method is called on an instance of \n",
    "#  a class, it becomes a bound method, meaning it is bound to that instance and can operate on its data. In contrast, unbound\n",
    "#  methods are not tied to any particular instance and can be called directly from the class definition.\n",
    "\n",
    "# example:\n",
    "class MyClass:\n",
    "    def __init__(self, value):\n",
    "        self.value = value\n",
    "\n",
    "    def print_value(self):\n",
    "        print(self.value)\n",
    "\n",
    "# Creating instances of MyClass\n",
    "obj1 = MyClass(10)\n",
    "obj2 = MyClass(20)\n",
    "\n",
    "# Calling bound methods on instances\n",
    "obj1.print_value()  # This is equivalent to MyClass.print_value(obj1)\n",
    "obj2.print_value()  # This is equivalent to MyClass.print_value(obj2)"
   ]
  },
  {
   "cell_type": "markdown",
   "id": "c2f9ef61",
   "metadata": {},
   "source": [
    "# 5."
   ]
  },
  {
   "cell_type": "code",
   "execution_count": 5,
   "id": "4996cecc",
   "metadata": {},
   "outputs": [
    {
     "name": "stdout",
     "output_type": "stream",
     "text": [
      "10\n",
      "10\n"
     ]
    }
   ],
   "source": [
    "# Pseudoprivate attributes in Python are a way to simulate private attributes within a class. They are not truly private \n",
    "#  in the sense that they can still be accessed and modified from outside the class, but their naming convention suggests that\n",
    "#  they are intended for internal use and should not be accessed directly by external code.\n",
    "\n",
    "# The purpose of pseudoprivate attributes is primarily for encapsulation and to prevent accidental modification or access from\n",
    "#  outside the class. By prefixing an attribute with double underscores (__), Python performs name mangling, which means the \n",
    "#  attribute name is altered in a way that makes it harder to access directly from outside the class. \n",
    "#  However, it's important to note that this is more of a convention than a strict enforcement of privacy, as Python does \n",
    "#  not have true private members like some other programming languages.\n",
    "\n",
    "# example:\n",
    "class MyClass:\n",
    "    def __init__(self):\n",
    "        self.__private_var = 10  # Pseudoprivate attribute\n",
    "\n",
    "    def get_private_var(self):\n",
    "        return self.__private_var\n",
    "\n",
    "# Creating an instance of MyClass\n",
    "obj = MyClass()\n",
    "\n",
    "# Accessing the pseudoprivate attribute (name-mangled)\n",
    "print(obj._MyClass__private_var)  # Output: 10\n",
    "\n",
    "# Accessing through a method\n",
    "print(obj.get_private_var())  # Output: 10"
   ]
  },
  {
   "cell_type": "code",
   "execution_count": null,
   "id": "634c0fe3",
   "metadata": {},
   "outputs": [],
   "source": []
  }
 ],
 "metadata": {
  "kernelspec": {
   "display_name": "Python 3 (ipykernel)",
   "language": "python",
   "name": "python3"
  },
  "language_info": {
   "codemirror_mode": {
    "name": "ipython",
    "version": 3
   },
   "file_extension": ".py",
   "mimetype": "text/x-python",
   "name": "python",
   "nbconvert_exporter": "python",
   "pygments_lexer": "ipython3",
   "version": "3.11.5"
  }
 },
 "nbformat": 4,
 "nbformat_minor": 5
}
